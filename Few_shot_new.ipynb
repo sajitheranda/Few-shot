{
  "nbformat": 4,
  "nbformat_minor": 0,
  "metadata": {
    "colab": {
      "provenance": [],
      "gpuType": "T4"
    },
    "kernelspec": {
      "name": "python3",
      "display_name": "Python 3"
    },
    "language_info": {
      "name": "python"
    },
    "accelerator": "GPU"
  },
  "cells": [
    {
      "cell_type": "markdown",
      "source": [
        "# Few-Shot Learning with Prototypical Networks\n"
      ],
      "metadata": {
        "id": "t1xwmHJKr2Xx"
      }
    },
    {
      "cell_type": "markdown",
      "source": [
        "# Import necessary libraries"
      ],
      "metadata": {
        "id": "QWB77M6FrzcC"
      }
    },
    {
      "cell_type": "code",
      "source": [
        "import torch\n",
        "import torch.nn as nn\n",
        "import torch.optim as optim\n",
        "from torch.utils.data import DataLoader, Dataset\n",
        "import torchvision.transforms as transforms\n",
        "from torchvision.datasets import Omniglot\n",
        "import numpy as np"
      ],
      "metadata": {
        "id": "33QnpZdEr0dp"
      },
      "execution_count": null,
      "outputs": []
    },
    {
      "cell_type": "markdown",
      "source": [
        "# Check if GPU is available and set device\n",
        "\n"
      ],
      "metadata": {
        "id": "DGja16CqsI05"
      }
    },
    {
      "cell_type": "code",
      "source": [
        "device = torch.device('cuda' if torch.cuda.is_available() else 'cpu')"
      ],
      "metadata": {
        "id": "Hvi9sL1xsLeK"
      },
      "execution_count": null,
      "outputs": []
    },
    {
      "cell_type": "markdown",
      "source": [
        "# Define the Prototypical Network model"
      ],
      "metadata": {
        "id": "CXNOhEGpsfEK"
      }
    },
    {
      "cell_type": "code",
      "source": [
        "class ProtoNet(nn.Module):\n",
        "    def __init__(self, input_channels=1, hidden_channels=64):\n",
        "        super(ProtoNet, self).__init__()\n",
        "        self.encoder = nn.Sequential(\n",
        "            nn.Conv2d(input_channels, hidden_channels, kernel_size=3, padding=1),\n",
        "            nn.ReLU(),\n",
        "            nn.MaxPool2d(2),\n",
        "            nn.Conv2d(hidden_channels, hidden_channels, kernel_size=3, padding=1),\n",
        "            nn.ReLU(),\n",
        "            nn.MaxPool2d(2),\n",
        "            nn.Conv2d(hidden_channels, hidden_channels, kernel_size=3, padding=1),\n",
        "            nn.ReLU(),\n",
        "            nn.MaxPool2d(2),\n",
        "            nn.Conv2d(hidden_channels, hidden_channels, kernel_size=3, padding=1),\n",
        "            nn.ReLU(),\n",
        "            nn.AdaptiveAvgPool2d((1, 1))\n",
        "        )\n",
        "\n",
        "    def forward(self, x):\n",
        "        return self.encoder(x).view(x.size(0), -1)"
      ],
      "metadata": {
        "id": "essmdDqJsMDq"
      },
      "execution_count": null,
      "outputs": []
    },
    {
      "cell_type": "markdown",
      "source": [
        "# Function to compute prototypes and classify, returning distances instead of indices"
      ],
      "metadata": {
        "id": "EFgre2QrsisZ"
      }
    },
    {
      "cell_type": "code",
      "source": [
        "def compute_prototypes(support, support_labels, query):\n",
        "    support_labels = support_labels.flatten()  # Convert from [1, 25] to [25]\n",
        "    unique_labels = torch.unique(support_labels)\n",
        "    prototypes = []\n",
        "\n",
        "    # Compute the prototype for each class\n",
        "    for label in unique_labels:\n",
        "        class_samples = support[support_labels == label]\n",
        "        prototypes.append(class_samples.mean(0))\n",
        "\n",
        "    prototypes = torch.stack(prototypes).to(device)\n",
        "\n",
        "    # Compute Euclidean distance between query samples and prototypes\n",
        "    distances = torch.cdist(query, prototypes)\n",
        "    return distances"
      ],
      "metadata": {
        "id": "NkF5kQ1oshu5"
      },
      "execution_count": null,
      "outputs": []
    },
    {
      "cell_type": "markdown",
      "source": [
        "# Example data loader for Few-Shot Learning"
      ],
      "metadata": {
        "id": "osMs1q8QssNa"
      }
    },
    {
      "cell_type": "code",
      "source": [
        "class FewShotDataset(Dataset):\n",
        "    def __init__(self, dataset, n_way, k_shot, k_query, transform=None):\n",
        "        self.dataset = dataset\n",
        "        self.n_way = n_way\n",
        "        self.k_shot = k_shot\n",
        "        self.k_query = k_query\n",
        "        self.transform = transform\n",
        "        self.classes = list(range(len(dataset._flat_character_images)))\n",
        "\n",
        "    def __len__(self):\n",
        "        return 250  # Arbitrary length\n",
        "\n",
        "    def __getitem__(self, idx):\n",
        "        sampled_classes = np.random.choice(self.classes, self.n_way, replace=False)\n",
        "        support = []\n",
        "        query = []\n",
        "        support_labels = []\n",
        "        query_labels = []\n",
        "\n",
        "        for i, class_id in enumerate(sampled_classes):\n",
        "            class_samples = np.random.choice(range(20), self.k_shot + self.k_query, replace=False)\n",
        "            for j in range(self.k_shot):\n",
        "                img, _ = self.dataset[class_id]\n",
        "                if self.transform:\n",
        "                    img = self.transform(img)\n",
        "                support.append(img)\n",
        "                support_labels.append(i)\n",
        "            for j in range(self.k_shot, self.k_shot + self.k_query):\n",
        "                img, _ = self.dataset[class_id]\n",
        "                if self.transform:\n",
        "                    img = self.transform(img)\n",
        "                query.append(img)\n",
        "                query_labels.append(i)\n",
        "\n",
        "        support = torch.stack(support)\n",
        "        query = torch.stack(query)\n",
        "        return support, torch.tensor(support_labels), query, torch.tensor(query_labels)\n"
      ],
      "metadata": {
        "id": "iUWO-45fsnUJ"
      },
      "execution_count": null,
      "outputs": []
    },
    {
      "cell_type": "markdown",
      "source": [
        "# Load the Omniglot dataset\n"
      ],
      "metadata": {
        "id": "lSOJl9CDsw86"
      }
    },
    {
      "cell_type": "code",
      "source": [
        "transform = transforms.Compose([\n",
        "    transforms.Grayscale(),\n",
        "    transforms.ToTensor()\n",
        "])"
      ],
      "metadata": {
        "id": "VpBmUDJ8stGR"
      },
      "execution_count": null,
      "outputs": []
    },
    {
      "cell_type": "code",
      "source": [
        "train_dataset = Omniglot(root='./data', background=True, transform=transform, download=True)\n",
        "train_loader = DataLoader(FewShotDataset(train_dataset, n_way=5, k_shot=5, k_query=15), batch_size=4, shuffle=True)"
      ],
      "metadata": {
        "colab": {
          "base_uri": "https://localhost:8080/"
        },
        "id": "Lhn-SjX-szSJ",
        "outputId": "d26c3ba0-19a3-4457-e3cc-8fd22f3d709a"
      },
      "execution_count": null,
      "outputs": [
        {
          "output_type": "stream",
          "name": "stdout",
          "text": [
            "Downloading https://raw.githubusercontent.com/brendenlake/omniglot/master/python/images_background.zip to ./data/omniglot-py/images_background.zip\n"
          ]
        },
        {
          "output_type": "stream",
          "name": "stderr",
          "text": [
            "100%|██████████| 9464212/9464212 [00:00<00:00, 131235704.69it/s]"
          ]
        },
        {
          "output_type": "stream",
          "name": "stdout",
          "text": [
            "Extracting ./data/omniglot-py/images_background.zip to ./data/omniglot-py\n"
          ]
        },
        {
          "output_type": "stream",
          "name": "stderr",
          "text": [
            "\n"
          ]
        }
      ]
    },
    {
      "cell_type": "markdown",
      "source": [
        "# Initialize the model, loss function, and optimizer\n"
      ],
      "metadata": {
        "id": "-NmhaFXYs5fq"
      }
    },
    {
      "cell_type": "code",
      "source": [
        "model = ProtoNet().to(device)\n",
        "criterion = nn.CrossEntropyLoss()\n",
        "optimizer = optim.Adam(model.parameters(), lr=0.001)\n"
      ],
      "metadata": {
        "id": "_8d15KaRs1hk"
      },
      "execution_count": null,
      "outputs": []
    },
    {
      "cell_type": "markdown",
      "source": [
        "# Training loop"
      ],
      "metadata": {
        "id": "BFAOn1zitAQS"
      }
    },
    {
      "cell_type": "code",
      "source": [
        "# Training loop\n",
        "for epoch in range(20):\n",
        "    model.train()  # Set the model to training mode\n",
        "    for support, support_labels, query, query_labels in train_loader:\n",
        "        # Move data to GPU\n",
        "        support = support.to(device)  # Shape: [batch_size, n_way, k_shot, 1, 28, 28]\n",
        "        query = query.to(device)  # Shape: [batch_size, n_way, k_query, 1, 28, 28]\n",
        "        support_labels = support_labels.to(device)  # Shape: [batch_size, n_way * k_shot]\n",
        "        query_labels = query_labels.to(device)  # Shape: [batch_size, n_way * k_query]\n",
        "\n",
        "        # Flatten the support and query sets to process in batches\n",
        "        support = support.view(-1, *support.size()[2:])  # Shape: [batch_size * (n_way * k_shot), 1, 28, 28]\n",
        "        query = query.view(-1, *query.size()[2:])  # Shape: [batch_size * (n_way * k_query), 1, 28, 28]\n",
        "\n",
        "        # Encode support and query sets\n",
        "        support_encoded = model(support)  # Shape: [batch_size * (n_way * k_shot), feature_dim]\n",
        "        query_encoded = model(query)  # Shape: [batch_size * (n_way * k_query), feature_dim]\n",
        "\n",
        "        # Compute prototypes and get distances to prototypes\n",
        "        distances = compute_prototypes(support_encoded, support_labels, query_encoded)  # Shape: [batch_size * (n_way * k_query), n_way]\n",
        "\n",
        "        # Convert distances to logits by negating them\n",
        "        predictions = -distances  # Shape: [batch_size * (n_way * k_query), n_way]\n",
        "\n",
        "        # Flatten query_labels to match batch size\n",
        "        query_labels = query_labels.view(-1)  # Shape: [batch_size * (n_way * k_query)]\n",
        "\n",
        "        # Compute the loss\n",
        "        loss = criterion(predictions, query_labels)\n",
        "\n",
        "        # Backpropagation and optimization\n",
        "        optimizer.zero_grad()\n",
        "        loss.backward()\n",
        "        optimizer.step()\n",
        "\n",
        "    print(f'Epoch {epoch + 1}, Loss: {loss.item()}')"
      ],
      "metadata": {
        "colab": {
          "base_uri": "https://localhost:8080/"
        },
        "id": "5oasCuyIwIBJ",
        "outputId": "98f6d188-1e4c-41a4-8fb4-f33943c8ca12"
      },
      "execution_count": null,
      "outputs": [
        {
          "output_type": "stream",
          "name": "stdout",
          "text": [
            "Epoch 1, Loss: 1.3597129583358765\n",
            "Epoch 2, Loss: 1.2048062086105347\n",
            "Epoch 3, Loss: 0.9956464767456055\n",
            "Epoch 4, Loss: 0.7996284365653992\n",
            "Epoch 5, Loss: 0.9966538548469543\n",
            "Epoch 6, Loss: 0.9167237281799316\n",
            "Epoch 7, Loss: 1.1162410974502563\n",
            "Epoch 8, Loss: 0.5236536264419556\n",
            "Epoch 9, Loss: 0.3805531859397888\n",
            "Epoch 10, Loss: 0.6793351173400879\n",
            "Epoch 11, Loss: 0.438449501991272\n",
            "Epoch 12, Loss: 0.44927963614463806\n",
            "Epoch 13, Loss: 0.9363599419593811\n",
            "Epoch 14, Loss: 0.3109646737575531\n",
            "Epoch 15, Loss: 0.40421977639198303\n",
            "Epoch 16, Loss: 0.14029915630817413\n",
            "Epoch 17, Loss: 0.11672678589820862\n",
            "Epoch 18, Loss: 0.022993579506874084\n",
            "Epoch 19, Loss: 0.09544401615858078\n",
            "Epoch 20, Loss: 0.011652615070343\n"
          ]
        }
      ]
    }
  ]
}